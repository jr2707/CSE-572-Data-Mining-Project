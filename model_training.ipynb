{
 "cells": [
  {
   "cell_type": "code",
   "execution_count": 58,
   "id": "66414c27",
   "metadata": {},
   "outputs": [],
   "source": [
    "from transformers import BertTokenizer, BertModel\n",
    "import torch, os\n",
    "from torch.utils.data import random_split\n",
    "from torch.utils.data import Dataset, DataLoader\n",
    "import pandas as pd\n",
    "import numpy as np\n",
    "import torch.nn as nn\n",
    "import torch.optim as optim\n",
    "from tqdm import tqdm"
   ]
  },
  {
   "cell_type": "code",
   "execution_count": null,
   "id": "d706edca",
   "metadata": {},
   "outputs": [],
   "source": [
    "device = 'cuda' if torch.cuda.is_available() else 'cpu'\n",
    "tokenizer = BertTokenizer.from_pretrained('bert-base-uncased')\n",
    "bert_model = BertModel.from_pretrained('bert-base-uncased').to(device)\n",
    "bs = 5120"
   ]
  },
  {
   "cell_type": "code",
   "execution_count": 62,
   "id": "496b918f",
   "metadata": {},
   "outputs": [],
   "source": [
    "class BlueSky(Dataset):\n",
    "    def __init__(self, file, tokenizer, model):\n",
    "        self.tokenizer = tokenizer\n",
    "        self.model = model\n",
    "        self.data = pd.read_csv(file)\n",
    "        self.post_creation_time = self.data['time'].tolist()\n",
    "        self.post_creation_time_min = min(self.post_creation_time)*1e9\n",
    "        self.post_creation_time_max = max(self.post_creation_time)*1e9\n",
    "\n",
    "    def __len__(self):\n",
    "        return len(self.data)\n",
    "        \n",
    "    def __getitem__(self, idx):\n",
    "        self.model.eval()\n",
    "        item = self.data.iloc[idx]\n",
    "        text = str(item['text'])\n",
    "        inputs = self.tokenizer(text, return_tensors='pt', padding=True, truncation=True, max_length=512).to(device)\n",
    "        with torch.no_grad():\n",
    "            outputs = self.model(**inputs)\n",
    "        cls_embedding = outputs.last_hidden_state[:, 0, :]\n",
    "        text_embeddings = torch.tensor(cls_embedding.squeeze().cpu().numpy()).to(device)\n",
    "        numerical_data = torch.tensor([item['follows_count'].item(), item['followers_count'].item()]).to(device)\n",
    "        post_creation_time_normalized = torch.tensor([(item['time'].item()*1e9 - self.post_creation_time_min) / (self.post_creation_time_max - self.post_creation_time_min)]).to(device)\n",
    "        out = torch.cat((text_embeddings, numerical_data, post_creation_time_normalized), dim=0).to(device)\n",
    "        label = torch.tensor([item['likes'].item()]).to(device)\n",
    "        return out, label"
   ]
  },
  {
   "cell_type": "code",
   "execution_count": null,
   "id": "86f792b5",
   "metadata": {},
   "outputs": [],
   "source": [
    "dataset = \"model_data.csv\"\n",
    "data = BlueSky(dataset, tokenizer, bert_model)\n",
    "\n",
    "train_dataset, test_dataset = random_split(data, [0.8, 0.2])\n",
    "\n",
    "train_dl = DataLoader(train_dataset, batch_size = bs, shuffle=True)\n",
    "test_dl = DataLoader(test_dataset, batch_size = bs, shuffle=True)"
   ]
  },
  {
   "cell_type": "code",
   "execution_count": 64,
   "id": "1cdf96c0",
   "metadata": {},
   "outputs": [],
   "source": [
    "class RegressionModel(nn.Module):\n",
    "    def __init__(self, input_size):\n",
    "        super(RegressionModel, self).__init__()\n",
    "        self.fc1 = nn.Linear(input_size, 128)\n",
    "        self.fc2 = nn.Linear(128, 64)\n",
    "        self.fc3 = nn.Linear(64, 1)\n",
    "    \n",
    "    def forward(self, x):\n",
    "        x = torch.relu(self.fc1(x))\n",
    "        x = torch.relu(self.fc2(x))\n",
    "        x = self.fc3(x)\n",
    "        return x"
   ]
  },
  {
   "cell_type": "code",
   "execution_count": null,
   "id": "c096cb19",
   "metadata": {},
   "outputs": [],
   "source": [
    "input_size = next(iter(train_dl))[0].shape[1]\n",
    "model = RegressionModel(input_size).to(device)"
   ]
  },
  {
   "cell_type": "code",
   "execution_count": null,
   "id": "9fa9f47e",
   "metadata": {},
   "outputs": [],
   "source": [
    "criterion = nn.MSELoss()\n",
    "optimizer = optim.Adam(model.parameters(), lr=1e-4)"
   ]
  },
  {
   "cell_type": "code",
   "execution_count": null,
   "id": "5ec4b18d",
   "metadata": {},
   "outputs": [],
   "source": [
    "num_epochs = 50\n",
    "for epoch in range(num_epochs):\n",
    "    for batch in tqdm(train_dl):\n",
    "        data, label = batch\n",
    "        model.train()\n",
    "        optimizer.zero_grad()\n",
    "        pred = model(data)\n",
    "        loss = criterion(pred, label.float())\n",
    "        loss.backward()\n",
    "        optimizer.step()\n",
    "        if (epoch+1) % 10 == 0:\n",
    "            print(f'Epoch [{epoch+1}/{num_epochs}], Loss: {loss.item():.4f}')\n",
    "    \n",
    "    for batch in test_dl:\n",
    "        model.eval()\n",
    "        data, label = batch\n",
    "        with torch.no_grad():\n",
    "            pred = model(data)\n",
    "        test_loss = criterion(pred, label.float())\n",
    "        print(f'Test Loss: {test_loss.item():.4f}')"
   ]
  },
  {
   "cell_type": "code",
   "execution_count": null,
   "id": "c6671a42",
   "metadata": {},
   "outputs": [],
   "source": [
    "torch.save(model.state_dict(), 'model.pth')"
   ]
  }
 ],
 "metadata": {
  "kernelspec": {
   "display_name": "diffusion",
   "language": "python",
   "name": "diffusion"
  },
  "language_info": {
   "codemirror_mode": {
    "name": "ipython",
    "version": 3
   },
   "file_extension": ".py",
   "mimetype": "text/x-python",
   "name": "python",
   "nbconvert_exporter": "python",
   "pygments_lexer": "ipython3",
   "version": "3.10.14"
  }
 },
 "nbformat": 4,
 "nbformat_minor": 5
}
